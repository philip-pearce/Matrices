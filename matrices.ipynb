{
  "nbformat": 4,
  "nbformat_minor": 0,
  "metadata": {
    "colab": {
      "provenance": [],
      "authorship_tag": "ABX9TyMdsdzezT0DoW8AoHQ5eshR",
      "include_colab_link": true
    },
    "kernelspec": {
      "name": "python3",
      "display_name": "Python 3"
    },
    "language_info": {
      "name": "python"
    }
  },
  "cells": [
    {
      "cell_type": "markdown",
      "metadata": {
        "id": "view-in-github",
        "colab_type": "text"
      },
      "source": [
        "<a href=\"https://colab.research.google.com/github/philip-pearce/Matrices/blob/main/matrices.ipynb\" target=\"_parent\"><img src=\"https://colab.research.google.com/assets/colab-badge.svg\" alt=\"Open In Colab\"/></a>"
      ]
    },
    {
      "cell_type": "markdown",
      "source": [
        "# **Matrices and Blood Flow Activities, by Philip Pearce**\n",
        "\n"
      ],
      "metadata": {
        "id": "cYvO0ss4kwRA"
      }
    },
    {
      "cell_type": "markdown",
      "source": [
        "## **Some Python information**\n",
        "\n",
        "To define a matrix in Python, first you need to import the “numpy” library, then you need to input the matrix. For example, to define a matrix\n",
        "\n",
        "\n",
        "\n",
        "$$ A = \\begin{pmatrix}\n",
        "1 & 2 \\\\\n",
        "3 & 4\n",
        "\\end{pmatrix} $$\n",
        "\n",
        "use the following lines of code:"
      ],
      "metadata": {
        "id": "uHlZQtaXqU4H"
      }
    },
    {
      "cell_type": "code",
      "execution_count": null,
      "metadata": {
        "id": "XKG5z0sneMnM"
      },
      "outputs": [],
      "source": [
        "#Import numpy:\n",
        "import numpy as np\n",
        "\n",
        "#Define matrix:\n",
        "A = np.matrix([[1, 2], [3, 4]]);\n"
      ]
    },
    {
      "cell_type": "markdown",
      "source": [
        "You can add and multiply two matrices $A$ and $B$ in the following way. Note that if you have already run the code above, you don't need to import numpy again. You don't need to define $A$ again either, but I'll do it anyway for clarity."
      ],
      "metadata": {
        "id": "i9w9yDPXkvzQ"
      }
    },
    {
      "cell_type": "code",
      "source": [
        "#Define matrices:\n",
        "A = np.matrix([[1, 2], [3, 4]]);\n",
        "B = np.matrix([[1, 2], [3, 4]]);\n",
        "\n",
        "#Matrix addition:\n",
        "C = A + B\n",
        "\n",
        "#Matrix multiplication:\n",
        "D = A @ B"
      ],
      "metadata": {
        "id": "OoFCwiVdl4QO"
      },
      "execution_count": null,
      "outputs": []
    },
    {
      "cell_type": "markdown",
      "source": [
        "You can solve a matrix equation in Python, such as the equation\n",
        "$$\n",
        "A \\mathbf{x} = \\mathbf{b}\n",
        "$$\n",
        "in the following way:"
      ],
      "metadata": {
        "id": "0I6vtCd1kvHJ"
      }
    },
    {
      "cell_type": "code",
      "source": [
        "#Define A\n",
        "A = np.matrix([[1, 2], [3, 4]]);\n",
        "\n",
        "#Define b\n",
        "b = np.matrix([[2], [1]]);\n",
        "\n",
        "#Solve the equation Ax = b\n",
        "x = np.linalg.solve(A, b)"
      ],
      "metadata": {
        "id": "6Z_QBPsTmWzO"
      },
      "execution_count": null,
      "outputs": []
    },
    {
      "cell_type": "markdown",
      "source": [
        "You can print any of your variables to the screen using the \"print\" command. For example, we have just calculated the vector $\\mathbf{x}$ from the equation above, which you can print using:"
      ],
      "metadata": {
        "id": "3ALylaK1nER8"
      }
    },
    {
      "cell_type": "code",
      "source": [
        "print(x)"
      ],
      "metadata": {
        "id": "_pM1tURSnDnE"
      },
      "execution_count": null,
      "outputs": []
    },
    {
      "cell_type": "markdown",
      "source": [
        "## **Coding activities**\n",
        "\n",
        "There is space below for writing your own code.\n",
        "\n",
        "**1. Practice adding and subtracting matrices.**\n",
        "\n",
        "You can find some examples here:\n",
        "\n",
        "https://www.khanacademy.org/math/precalculus/adding-and-subtracting-matrices/e/matrix_addition_and_subtraction\n",
        "\n",
        "Try the activities by hand, then check your answers in Python. Define two of your own 3x3 matrices and add them together by hand; check your answer in Python.\n",
        "\n",
        "**2. Practice multiplying matrices.**\n",
        "\n",
        "You can find some examples here:\n",
        "\n",
        "https://www.khanacademy.org/math/precalculus/multiplying-matrices-by-matrices/e/multiplying_a_matrix_by_a_matrix\n",
        "\n",
        "Try the activities by hand, then check your answers in Python. Define two of your own 3x3 matrices and multiply them together by hand; check your answer in Python. See if you can define two matrices of different sizes, and multiply them together by hand; check your answer in Python.\n",
        "\n",
        "**3. Practice solving simultaneous equations using matrices.**\n",
        "\n",
        "Consider a set of simultaneous equations of the form:\n",
        "$$\n",
        "3x+2y=1\\\\\n",
        "x-y=3\n",
        "$$\n",
        "a) Solve this system of equations by hand.\n",
        "\n",
        "b) Write this system as a matrix equation:\n",
        "$$\n",
        "A \\mathbf{x}=\\mathbf{b}\n",
        "$$\n",
        "where $A$ and $\\mathbf{b}$ contain only known quantities (numbers), and $\\mathbf{x}$ contains only variables (letters). $A$, $\\mathbf{b}$ and $\\mathbf{x}$ should all be matrices (although they may have different numbers of rows and columns).\n",
        "\n",
        "c) Solve the matrix equation in Python.\n",
        "\n",
        "d) Use Google to investigate how you would solve this simple matrix equation by hand (search for “how to invert a 2x2 matrix”). Can you write down more complicated sets of simultaneous equations with even more variables, and solve them in Python?\n",
        "\n",
        "**4. Modelling blood flow in networks.**\n",
        "\n",
        "Consider the network that I showed in the talk (see Figure 1 below).\n",
        "\n",
        "*Alternatively, if you have not attended my talk, visit this page for an introduction to blood flow in networks: https://github.com/philip-pearce/bloodflow*\n",
        "\n",
        "Model the flow of blood in the network shown in Figure 1 using a set of three simultaneous equations, by applying the law:\n",
        "\n",
        "$$\n",
        "Q_{ij}=(P_i-P_j)/R_{ij}\n",
        "$$\n",
        "in each vessel, and that at each node:\n",
        "\n",
        "$$\n",
        "Q_\\text{in}=Q_\\text{out}\n",
        "$$\n",
        "\n",
        "Can you write a Python code that will solve for the pressures $P_i$ at each node if you give values to all the parameters in black (i.e. $P_{in}$, $P_{out}$, $R_{ij}$)? What about the flow rate $Q$? What about more complicated networks?\n",
        "\n",
        "**5. Further research.**\n",
        "\n",
        "Go to https://github.com/philip-pearce/bloodflow and explore the Python activities on matrices and blood flow.\n"
      ],
      "metadata": {
        "id": "ZDX66BKCnT1M"
      }
    },
    {
      "cell_type": "markdown",
      "source": [
        "**Figure 1.** The network shown in the talk (generated using the code below)."
      ],
      "metadata": {
        "id": "DulISYPRrfDl"
      }
    },
    {
      "cell_type": "code",
      "source": [
        "import networkx as nx\n",
        "G = nx.Graph([(0,1),(1,2),(1,3),(2,4),(2,5),(3,6),(3,7)])\n",
        "pos = {0:(0,0),1:(1,0),2:(2,1),3:(2,-1),4:(3,1.5),5:(3,0.5),6:(3,-0.5),7:(3,-1.5)}\n",
        "nx.draw(G,pos,labels = {0:\"$P_{in}$\",1:\"$P_1$\",2:\"$P_2$\",3:\"$P_3$\",4:\"$P_{out}$\",5:\"$P_{out}$\",6:\"$P_{out}$\",7:\"$P_{out}$\"},node_color = (\"yellow\",\"red\",\"cyan\",\"magenta\",\"yellow\",\"yellow\",\"yellow\",\"yellow\"), node_size=600)\n",
        "nx.draw_networkx_edge_labels(\n",
        "    G, pos,\n",
        "    edge_labels={(0, 1): '$R_{01}$',\n",
        "                 (1, 2): '$R_{12}$',\n",
        "                 (1, 3): '$R_{13}$',\n",
        "                 (2, 4): '$R_{24}$',\n",
        "                 (2, 5): '$R_{25}$',\n",
        "                 (3, 6): '$R_{36}$',\n",
        "                 (3, 7): '$R_{37}$'},\n",
        "    font_color='black'\n",
        ");"
      ],
      "metadata": {
        "colab": {
          "base_uri": "https://localhost:8080/",
          "height": 516
        },
        "id": "SbR3Lg1FriDt",
        "outputId": "01b8cc18-53e3-4066-9efd-3a0e96680085"
      },
      "execution_count": null,
      "outputs": [
        {
          "output_type": "display_data",
          "data": {
            "text/plain": [
              "<Figure size 640x480 with 1 Axes>"
            ],
            "image/png": "[encoded data removed]"
          },
          "metadata": {}
        }
      ]
    },
    {
      "cell_type": "markdown",
      "source": [
        "## **Coding space**"
      ],
      "metadata": {
        "id": "s4kXMIGMp2T3"
      }
    },
    {
      "cell_type": "code",
      "source": [],
      "metadata": {
        "id": "_pgcp4JIp1Cf"
      },
      "execution_count": null,
      "outputs": []
    }
  ]
}